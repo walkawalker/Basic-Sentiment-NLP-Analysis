{
 "cells": [
  {
   "cell_type": "code",
   "execution_count": 70,
   "id": "246f113e",
   "metadata": {},
   "outputs": [],
   "source": [
    "import pandas as pd\n",
    "import pandas_ta as ta\n",
    "import matplotlib.pyplot as plt\n",
    "import numpy as np\n",
    "import scikitplot as skplot\n",
    "import csv\n",
    "import datetime as dt\n",
    "import pandas_datareader.data as web\n",
    "import os,sys,csv,time\n",
    "import re\n",
    "import urllib.request as urlopen\n",
    "from bs4 import BeautifulSoup \n",
    "import os\n",
    "import time\n",
    "import requests\n",
    "from sec_api import QueryApi"
   ]
  },
  {
   "cell_type": "code",
   "execution_count": 11,
   "id": "c359deb3",
   "metadata": {},
   "outputs": [],
   "source": [
    "years = [1995 + x for x in range(0,26)]\n",
    "quarters = ['QTR1', 'QTR2', 'QTR3', 'QTR4']"
   ]
  },
  {
   "cell_type": "code",
   "execution_count": 17,
   "id": "06e8a3c8",
   "metadata": {},
   "outputs": [],
   "source": [
    "orgpath = 'C:\\\\Users\\\\whill\\\\OneDrive\\\\Desktop\\\\MGT of Fin Institutions\\\\Hills_A12\\\\Datafiles'\n",
    "cfolds = os.listdir(orgpath)"
   ]
  },
  {
   "cell_type": "markdown",
   "id": "756cb570",
   "metadata": {},
   "source": [
    "## Save and convert master.idx files to directory, run once"
   ]
  },
  {
   "cell_type": "code",
   "execution_count": 21,
   "id": "e049e16f",
   "metadata": {},
   "outputs": [],
   "source": [
    "for y in years:\n",
    "    if str(y) not in cfolds:\n",
    "        os.mkdir('\\\\'.join([orgpath, str(y)]))\n",
    "    cfiles = os.listdir('\\\\'.join([orgpath,str(y)]))\n",
    "    for q in quarters:\n",
    "        newfile = f'master_{y}_{q}.txt'\n",
    "        newfilepath = '\\\\'.join([orgpath,str(y),newfile])\n",
    "        if newfile in cfiles:\n",
    "            print(f'File {y}, {q} is already downloaded')\n",
    "            continue\n",
    "        idxurl = f'https://www.sec.gov/Archives/edgar/full-index/{y}/{q}/master.idx'\n",
    "        hdr = {'User-Agent':'Mozilla/5.0'}\n",
    "        req = requests.get(idxurl, stream = True, headers = hdr)\n",
    "        with open(newfilepath, 'wb') as f:\n",
    "            for content in req.iter_content(chunk_size = 10240):\n",
    "                f.write(content)\n",
    "        time.sleep(1)"
   ]
  },
  {
   "cell_type": "markdown",
   "id": "b38d08c9",
   "metadata": {},
   "source": [
    "## Read in files, dataframe, randomize, save to csv"
   ]
  },
  {
   "cell_type": "code",
   "execution_count": 52,
   "id": "8c265491",
   "metadata": {},
   "outputs": [],
   "source": [
    "count = 0\n",
    "for y in years:\n",
    "    yearfolder = '\\\\'.join([orgpath,str(y)])\n",
    "    for q in quarters:\n",
    "        readdf = pd.read_csv('\\\\'.join([yearfolder,f'master_{y}_{q}.txt']), skiprows=[0,1,2,3,4,5,6,7,8,10], sep = '|')\n",
    "        readdf['Year'] = pd.to_datetime(readdf['Date Filed'], format = '%Y-%m-%d').dt.year\n",
    "        readdf = readdf[(readdf['Form Type'] == '8-K')]\n",
    "        readdf['Quarter'] = f'{q}'\n",
    "        randdf = readdf.groupby(by='Year').sample(n=50, replace = True, random_state = 1).reset_index(drop=True)\n",
    "        randdf = randdf[['CIK', 'Company Name', 'Form Type', 'Date Filed','Year', 'Quarter', 'Filename']]\n",
    "        if count == 0:\n",
    "            copyranddf = randdf.copy()\n",
    "            count +=1\n",
    "        else:\n",
    "            copyranddf = pd.concat([copyranddf, randdf])\n",
    "copyranddf.to_csv('8-Krandomsample.csv', sep = ',', header = copyranddf.columns)"
   ]
  },
  {
   "cell_type": "code",
   "execution_count": 56,
   "id": "23780f51",
   "metadata": {},
   "outputs": [
    {
     "data": {
      "text/html": [
       "<div>\n",
       "<style scoped>\n",
       "    .dataframe tbody tr th:only-of-type {\n",
       "        vertical-align: middle;\n",
       "    }\n",
       "\n",
       "    .dataframe tbody tr th {\n",
       "        vertical-align: top;\n",
       "    }\n",
       "\n",
       "    .dataframe thead th {\n",
       "        text-align: right;\n",
       "    }\n",
       "</style>\n",
       "<table border=\"1\" class=\"dataframe\">\n",
       "  <thead>\n",
       "    <tr style=\"text-align: right;\">\n",
       "      <th></th>\n",
       "      <th>CIK</th>\n",
       "      <th>Company Name</th>\n",
       "      <th>Form Type</th>\n",
       "      <th>Date Filed</th>\n",
       "      <th>Year</th>\n",
       "      <th>Quarter</th>\n",
       "      <th>Filename</th>\n",
       "    </tr>\n",
       "  </thead>\n",
       "  <tbody>\n",
       "    <tr>\n",
       "      <th>0</th>\n",
       "      <td>877930</td>\n",
       "      <td>MESA INC</td>\n",
       "      <td>8-K</td>\n",
       "      <td>2/17/1995</td>\n",
       "      <td>1995</td>\n",
       "      <td>QTR1</td>\n",
       "      <td>edgar/data/877930/0000877930-95-000002.txt</td>\n",
       "    </tr>\n",
       "    <tr>\n",
       "      <th>1</th>\n",
       "      <td>314459</td>\n",
       "      <td>CARLYLE REAL ESTATE LTD PARTNERSHIP X</td>\n",
       "      <td>8-K</td>\n",
       "      <td>3/29/1995</td>\n",
       "      <td>1995</td>\n",
       "      <td>QTR1</td>\n",
       "      <td>edgar/data/314459/0000892626-95-000034.txt</td>\n",
       "    </tr>\n",
       "    <tr>\n",
       "      <th>2</th>\n",
       "      <td>90811</td>\n",
       "      <td>AMERICAN STORES CO /NEW/</td>\n",
       "      <td>8-K</td>\n",
       "      <td>3/10/1995</td>\n",
       "      <td>1995</td>\n",
       "      <td>QTR1</td>\n",
       "      <td>edgar/data/90811/0000090811-95-000001.txt</td>\n",
       "    </tr>\n",
       "    <tr>\n",
       "      <th>3</th>\n",
       "      <td>806641</td>\n",
       "      <td>SCA TAX EXEMPT FUND LIMITED PARTNERSHIP</td>\n",
       "      <td>8-K</td>\n",
       "      <td>3/22/1995</td>\n",
       "      <td>1995</td>\n",
       "      <td>QTR1</td>\n",
       "      <td>edgar/data/806641/0000806641-95-000005.txt</td>\n",
       "    </tr>\n",
       "    <tr>\n",
       "      <th>4</th>\n",
       "      <td>73902</td>\n",
       "      <td>OGDEN CORP</td>\n",
       "      <td>8-K</td>\n",
       "      <td>1/3/1995</td>\n",
       "      <td>1995</td>\n",
       "      <td>QTR1</td>\n",
       "      <td>edgar/data/73902/0000073902-95-000002.txt</td>\n",
       "    </tr>\n",
       "  </tbody>\n",
       "</table>\n",
       "</div>"
      ],
      "text/plain": [
       "      CIK                             Company Name Form Type Date Filed  Year  \\\n",
       "0  877930                                 MESA INC       8-K  2/17/1995  1995   \n",
       "1  314459    CARLYLE REAL ESTATE LTD PARTNERSHIP X       8-K  3/29/1995  1995   \n",
       "2   90811                 AMERICAN STORES CO /NEW/       8-K  3/10/1995  1995   \n",
       "3  806641  SCA TAX EXEMPT FUND LIMITED PARTNERSHIP       8-K  3/22/1995  1995   \n",
       "4   73902                               OGDEN CORP       8-K   1/3/1995  1995   \n",
       "\n",
       "  Quarter                                    Filename  \n",
       "0    QTR1  edgar/data/877930/0000877930-95-000002.txt  \n",
       "1    QTR1  edgar/data/314459/0000892626-95-000034.txt  \n",
       "2    QTR1   edgar/data/90811/0000090811-95-000001.txt  \n",
       "3    QTR1  edgar/data/806641/0000806641-95-000005.txt  \n",
       "4    QTR1   edgar/data/73902/0000073902-95-000002.txt  "
      ]
     },
     "execution_count": 56,
     "metadata": {},
     "output_type": "execute_result"
    }
   ],
   "source": [
    "rbcsv = pd.read_csv('8-Krandomsample.csv')\n",
    "rbcsv.drop(['Unnamed: 0'], axis = 1, inplace = True)\n",
    "rbcsv.head()"
   ]
  },
  {
   "cell_type": "markdown",
   "id": "81e2d01c",
   "metadata": {},
   "source": [
    "## Run once to make directories"
   ]
  },
  {
   "cell_type": "code",
   "execution_count": 58,
   "id": "f2626f89",
   "metadata": {},
   "outputs": [],
   "source": [
    "#for y in years:\n",
    "    #os.mkdir('\\\\'.join([orgpath, str(y), '8_K_files']))"
   ]
  },
  {
   "cell_type": "markdown",
   "id": "e7d78861",
   "metadata": {},
   "source": [
    "## Save all the 8-Ks"
   ]
  },
  {
   "cell_type": "code",
   "execution_count": 65,
   "id": "d557be39",
   "metadata": {},
   "outputs": [],
   "source": [
    "for i in range(len(rbcsv['CIK'])):\n",
    "        newfile = f'{rbcsv.CIK.iloc[i]}_{rbcsv.Year.iloc[i]}_{rbcsv.Quarter.iloc[i]}_8K.txt'\n",
    "        filepath = '\\\\'.join([orgpath,f'{rbcsv.Year.iloc[i]}','8_K_files',newfile])\n",
    "        url = f'https://www.sec.gov/Archives/{rbcsv.Filename.iloc[i]}'\n",
    "        hdr = {'User-Agent':'Mozilla/5.0'}\n",
    "        req = requests.get(url, stream = True, headers = hdr)\n",
    "        with open(filepath, 'wb') as f:\n",
    "            for content in req.iter_content(chunk_size = 10240):\n",
    "                f.write(content)\n",
    "        time.sleep(1)"
   ]
  }
 ],
 "metadata": {
  "kernelspec": {
   "display_name": "Python 3",
   "language": "python",
   "name": "python3"
  },
  "language_info": {
   "codemirror_mode": {
    "name": "ipython",
    "version": 3
   },
   "file_extension": ".py",
   "mimetype": "text/x-python",
   "name": "python",
   "nbconvert_exporter": "python",
   "pygments_lexer": "ipython3",
   "version": "3.8.8"
  }
 },
 "nbformat": 4,
 "nbformat_minor": 5
}
